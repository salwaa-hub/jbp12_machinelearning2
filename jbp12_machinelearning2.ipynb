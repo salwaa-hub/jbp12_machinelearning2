{
  "nbformat": 4,
  "nbformat_minor": 0,
  "metadata": {
    "colab": {
      "provenance": [],
      "authorship_tag": "ABX9TyPB19hJSpVsmXbxBtOE7uKF",
      "include_colab_link": true
    },
    "kernelspec": {
      "name": "python3",
      "display_name": "Python 3"
    },
    "language_info": {
      "name": "python"
    }
  },
  "cells": [
    {
      "cell_type": "markdown",
      "metadata": {
        "id": "view-in-github",
        "colab_type": "text"
      },
      "source": [
        "<a href=\"https://colab.research.google.com/github/salwaa-hub/jbp12_machinelearning2/blob/main/jbp12_machinelearning2.ipynb\" target=\"_parent\"><img src=\"https://colab.research.google.com/assets/colab-badge.svg\" alt=\"Open In Colab\"/></a>"
      ]
    },
    {
      "cell_type": "code",
      "execution_count": 1,
      "metadata": {
        "id": "xsU5MYJt51x4"
      },
      "outputs": [],
      "source": [
        "# 1. Import dan generate data cosinus\n",
        "import numpy as np\n",
        "import matplotlib.pyplot as plt\n",
        "import tensorflow as tf\n",
        "from tensorflow.keras.models import Sequential\n",
        "from tensorflow.keras.layers import LSTM, Dense, Dropout, Input\n",
        "from tensorflow.keras.optimizers import Adam, RMSprop, SGD\n",
        "from sklearn.model_selection import train_test_split\n",
        "import pandas as pd\n",
        "import seaborn as sns\n",
        "from IPython.display import display\n",
        "import time\n",
        "\n",
        "def generate_cosine_data(seq_length=50, num_samples=1000):\n",
        "    X, y = [], []\n",
        "    for _ in range(num_samples):\n",
        "        start = np.random.rand() * 2 * np.pi\n",
        "        xs = np.array([np.cos(start + i * 0.1) for i in range(seq_length + 1)])\n",
        "        X.append(xs[:-1])\n",
        "        y.append(xs[-1])\n",
        "    X = np.array(X).reshape((num_samples, seq_length, 1))\n",
        "    y = np.array(y)\n",
        "    return X, y\n",
        "\n",
        "X, y = generate_cosine_data()\n",
        "X_train, X_test, y_train, y_test = train_test_split(X, y, test_size=0.2, random_state=42)"
      ]
    },
    {
      "cell_type": "code",
      "source": [],
      "metadata": {
        "id": "PVEDEPq2BMMr"
      },
      "execution_count": null,
      "outputs": []
    }
  ]
}